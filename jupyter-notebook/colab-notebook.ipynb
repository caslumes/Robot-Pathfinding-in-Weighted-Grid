{
 "cells": [
  {
   "cell_type": "markdown",
   "id": "fdb04c04",
   "metadata": {},
   "source": [
    "# Robot-Pathfinding-in-Weighted-Grid\n",
    "\n",
    "Use this notebook if you're running the project on Google Colab"
   ]
  },
  {
   "cell_type": "code",
   "execution_count": null,
   "id": "35e2f35a",
   "metadata": {
    "vscode": {
     "languageId": "plaintext"
    }
   },
   "outputs": [],
   "source": [
    "# Clone the repository\n",
    "!git clone https://github.com/heitornolla/Robot-Pathfinding-in-Weighted-Grid.git\n",
    "\n",
    "# Change your CWD\n",
    "import os\n",
    "os.chdir(\"Robot-Pathfinding-in-Weighted-Grid\")\n",
    "\n",
    "# Add current path to PATH variable\n",
    "import sys\n",
    "sys.path.append(os.getcwd())\n",
    "\n",
    "# Now everything should work :)"
   ]
  },
  {
   "cell_type": "code",
   "execution_count": null,
   "id": "fc83d465",
   "metadata": {
    "vscode": {
     "languageId": "plaintext"
    }
   },
   "outputs": [],
   "source": [
    "import random\n",
    "random.seed(42)\n",
    "\n",
    "from src.algorithms.a_star import a_star\n",
    "from src.algorithms.bfs import breadth_first_search\n",
    "from src.algorithms.dfs import depth_first_search\n",
    "from src.algorithms.greedy_best_first import greedy_best_first\n",
    "\n",
    "from src.grid.grid import Grid\n",
    "from src.utils import print_path_with_open\n",
    "\n",
    "\n",
    "terrain_types = ['W', 'G', 'M', 'T']\n",
    "terrain_weights = [0.1, 0.4, 0.25, 0.15]  \n",
    "\n",
    "terrain_map = [\n",
    "    [random.choices(terrain_types, terrain_weights)[0] for _ in range(50)]\n",
    "    for _ in range(50)\n",
    "]\n",
    "\n",
    "grid = Grid(terrain_map)\n",
    "start = (0, 0)\n",
    "goal = (38, 46)\n",
    "\n",
    "\n",
    "def test_algorithms(grid, start, goal):\n",
    "    algorithms = {\n",
    "        \"A*\": a_star,\n",
    "        \"Greedy Best-First\": greedy_best_first,\n",
    "        \"Breadth-First Search\": breadth_first_search,\n",
    "        \"Depth-First Search\": depth_first_search\n",
    "    }\n",
    "\n",
    "    results = {}\n",
    "    for name, algo in algorithms.items():\n",
    "        path, cost, opened = algo(grid, start, goal)\n",
    "        results[name] = {\n",
    "            \"path_length\": len(path),\n",
    "            \"cost\": cost,\n",
    "            \"nodes_opened\": len(opened)\n",
    "        }\n",
    "    return results\n",
    "\n",
    "\n",
    "if __name__ == \"__main__\":\n",
    "    results = test_algorithms(grid, start, goal)\n",
    "\n",
    "    for name, data in results.items():\n",
    "        print(f\"{name}: Cost={data['cost']:.2f}, Path Length={data['path_length']}, Opened={data['nodes_opened']}\")\n"
   ]
  }
 ],
 "metadata": {
  "language_info": {
   "name": "python"
  }
 },
 "nbformat": 4,
 "nbformat_minor": 5
}
