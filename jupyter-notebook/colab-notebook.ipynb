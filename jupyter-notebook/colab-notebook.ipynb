{
 "cells": [
  {
   "cell_type": "markdown",
   "id": "fdb04c04",
   "metadata": {},
   "source": [
    "# Robot-Pathfinding-in-Weighted-Grid\n",
    "\n",
    "This notebook provides a clear and simple understanding of how A*, GBFS, BFS and DFS perform on our given problem. Feel free to tweak parameters such as start and goal coordinates and terrain type distributions to see how they affect the end result."
   ]
  },
  {
   "cell_type": "code",
   "execution_count": null,
   "id": "35e2f35a",
   "metadata": {
    "vscode": {
     "languageId": "plaintext"
    }
   },
   "outputs": [],
   "source": [
    "# Clone the repository\n",
    "!git clone https://github.com/heitornolla/Robot-Pathfinding-in-Weighted-Grid.git\n",
    "\n",
    "# Change your CWD\n",
    "import os\n",
    "os.chdir(\"Robot-Pathfinding-in-Weighted-Grid\")\n",
    "\n",
    "# Add current path to PATH variable\n",
    "import sys\n",
    "sys.path.append(os.getcwd())\n",
    "\n",
    "# Now everything should work :)"
   ]
  },
  {
   "cell_type": "code",
   "execution_count": null,
   "id": "1e07d344",
   "metadata": {
    "vscode": {
     "languageId": "plaintext"
    }
   },
   "outputs": [],
   "source": [
    "import random\n",
    "random.seed(42)\n",
    "\n",
    "# Set a seed for reproductibility"
   ]
  },
  {
   "cell_type": "code",
   "execution_count": null,
   "id": "47f63519",
   "metadata": {
    "vscode": {
     "languageId": "plaintext"
    }
   },
   "outputs": [],
   "source": [
    "from src.algorithms.a_star import a_star\n",
    "from src.algorithms.bfs import breadth_first_search\n",
    "from src.algorithms.dfs import depth_first_search\n",
    "from src.algorithms.greedy_best_first import greedy_best_first\n",
    "\n",
    "# Algorithms implemented which we will compare"
   ]
  },
  {
   "cell_type": "code",
   "execution_count": null,
   "id": "6eb74879",
   "metadata": {
    "vscode": {
     "languageId": "plaintext"
    }
   },
   "outputs": [],
   "source": [
    "# Defines the expected terrain types and how much they should appear\n",
    "\n",
    "terrain_types = ['W', 'G', 'M', 'T']\n",
    "terrain_weights = [0.1, 0.4, 0.25, 0.15]  \n",
    "\n",
    "terrain_map = [\n",
    "    [random.choices(terrain_types, terrain_weights)[0] for _ in range(50)]\n",
    "    for _ in range(50)\n",
    "]"
   ]
  },
  {
   "cell_type": "code",
   "execution_count": null,
   "id": "7e78bf86",
   "metadata": {
    "vscode": {
     "languageId": "plaintext"
    }
   },
   "outputs": [],
   "source": [
    "from src.grid.grid import Grid\n",
    "\n",
    "grid = Grid(terrain_map)\n",
    "start = (0, 0)\n",
    "goal = (38, 46)\n",
    "\n",
    "# Defines the Grid map, and our start and goal positions"
   ]
  },
  {
   "cell_type": "code",
   "execution_count": null,
   "id": "fc83d465",
   "metadata": {
    "vscode": {
     "languageId": "plaintext"
    }
   },
   "outputs": [],
   "source": [
    "\n",
    "# Function which will run the algorithms for comparison\n",
    "\n",
    "def test_algorithms(grid, start, goal):\n",
    "    algorithms = {\n",
    "        \"A*\": a_star,\n",
    "        \"Greedy Best-First\": greedy_best_first,\n",
    "        \"Breadth-First Search\": breadth_first_search,\n",
    "        \"Depth-First Search\": depth_first_search\n",
    "    }\n",
    "\n",
    "    results = {}\n",
    "    for name, algo in algorithms.items():\n",
    "        path, cost, opened = algo(grid, start, goal)\n",
    "        results[name] = {\n",
    "            \"path_length\": len(path),\n",
    "            \"cost\": cost,\n",
    "            \"nodes_opened\": len(opened)\n",
    "        }\n",
    "    return results"
   ]
  },
  {
   "cell_type": "code",
   "execution_count": null,
   "id": "55c87cd1",
   "metadata": {
    "vscode": {
     "languageId": "plaintext"
    }
   },
   "outputs": [],
   "source": [
    "results = test_algorithms(grid, start, goal)\n",
    "\n",
    "for name, data in results.items():\n",
    "    print(f\"{name}: Cost={data['cost']:.2f}, Path Length={data['path_length']}, Opened={data['nodes_opened']}\")\n",
    "\n",
    "# Runs the algorithms and returns the results :)"
   ]
  }
 ],
 "metadata": {
  "language_info": {
   "name": "python"
  }
 },
 "nbformat": 4,
 "nbformat_minor": 5
}
