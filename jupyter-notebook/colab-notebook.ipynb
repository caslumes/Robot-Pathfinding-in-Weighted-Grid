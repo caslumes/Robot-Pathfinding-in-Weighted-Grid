{
 "cells": [
  {
   "cell_type": "markdown",
   "id": "fdb04c04",
   "metadata": {},
   "source": [
    "# Robot-Pathfinding-in-Weighted-Grid\n",
    "\n",
    "Use this notebook if you're running the project on Google Colab"
   ]
  },
  {
   "cell_type": "markdown",
   "id": "e0306121",
   "metadata": {},
   "source": []
  }
 ],
 "metadata": {
  "language_info": {
   "name": "python"
  }
 },
 "nbformat": 4,
 "nbformat_minor": 5
}
