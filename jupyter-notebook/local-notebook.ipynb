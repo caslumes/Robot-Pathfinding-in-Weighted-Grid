{
 "cells": [
  {
   "cell_type": "markdown",
   "id": "6cfff36b",
   "metadata": {},
   "source": [
    "# Robot-Pathfinding-in-Weighted-Grid\n",
    "\n",
    "Use this notebook if you've cloned the repository and are working locally"
   ]
  },
  {
   "cell_type": "markdown",
   "id": "f758b368",
   "metadata": {},
   "source": [
    "import random\n",
    "random.seed(42)\n",
    "\n",
    "from src.algorithms.a_star import a_star\n",
    "from src.algorithms.bfs import breadth_first_search\n",
    "from src.algorithms.dfs import depth_first_search\n",
    "from src.algorithms.greedy_best_first import greedy_best_first\n",
    "\n",
    "from src.grid.grid import Grid\n",
    "from src.utils import print_path_with_open\n",
    "\n",
    "\n",
    "# Explain on 5x5 grid, demonstrate on 20x20 and 50x50\n",
    "# Showcase open nodes while debugging the code\n",
    "\n",
    "terrain_types = ['W', 'G', 'M', 'T']\n",
    "terrain_weights = [0.1, 0.4, 0.25, 0.15]  \n",
    "\n",
    "terrain_map = [\n",
    "    [random.choices(terrain_types, terrain_weights)[0] for _ in range(50)]\n",
    "    for _ in range(50)\n",
    "]\n",
    "\n",
    "grid = Grid(terrain_map)\n",
    "start = (0, 0)\n",
    "goal = (38, 46)\n",
    "\n",
    "\n",
    "def test_algorithms(grid, start, goal):\n",
    "    algorithms = {\n",
    "        \"A*\": a_star,\n",
    "        \"Greedy Best-First\": greedy_best_first,\n",
    "        \"Breadth-First Search\": breadth_first_search,\n",
    "        \"Depth-First Search\": depth_first_search\n",
    "    }\n",
    "\n",
    "    results = {}\n",
    "    for name, algo in algorithms.items():\n",
    "        path, cost, opened = algo(grid, start, goal)\n",
    "        results[name] = {\n",
    "            \"path_length\": len(path),\n",
    "            \"cost\": cost,\n",
    "            \"nodes_opened\": len(opened)\n",
    "        }\n",
    "    return results\n",
    "\n",
    "\n",
    "if __name__ == \"__main__\":\n",
    "    results = test_algorithms(grid, start, goal)\n",
    "\n",
    "    for name, data in results.items():\n",
    "        print(f\"{name}: Cost={data['cost']:.2f}, Path Length={data['path_length']}, Opened={data['nodes_opened']}\")\n"
   ]
  }
 ],
 "metadata": {
  "language_info": {
   "name": "python"
  }
 },
 "nbformat": 4,
 "nbformat_minor": 5
}
