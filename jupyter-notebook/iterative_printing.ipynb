{
 "cells": [
  {
   "cell_type": "code",
   "execution_count": 9,
   "id": "69584a0d",
   "metadata": {},
   "outputs": [],
   "source": [
    "global t\n",
    "t = 0\n",
    "\n",
    "TERRAINS = {\n",
    "    \"W\": 1,  \n",
    "    \"G\": 1.2,\n",
    "    \"T\": min(1.5, 0.1 * t),\n",
    "    \"M\": 1.6,\n",
    "}"
   ]
  },
  {
   "cell_type": "code",
   "execution_count": 10,
   "id": "f3db43e4",
   "metadata": {},
   "outputs": [],
   "source": [
    "def heuristic(a, b):\n",
    "    \"\"\"Manhattan distance multiplied by the lowest terrain cost (water).\"\"\"\n",
    "    (x1, y1), (x2, y2) = a, b\n",
    "    return (abs(x1 - x2) + abs(y1 - y2)) * TERRAINS[\"W\"]"
   ]
  },
  {
   "cell_type": "markdown",
   "id": "9ac364cf",
   "metadata": {},
   "source": [
    "# First Grid:"
   ]
  },
  {
   "cell_type": "code",
   "execution_count": 11,
   "id": "94b56213",
   "metadata": {},
   "outputs": [],
   "source": [
    "grid = [\n",
    "    list(\"WGGTG\"),\n",
    "    list(\"GMWMM\"),\n",
    "    list(\"GTMWG\"),\n",
    "    list(\"GGGMM\"),\n",
    "    list(\"TMMGW\"),\n",
    "    list(\"GWGMG\"),\n",
    "    list(\"GGMTM\"),\n",
    "    list(\"WGGWM\"),\n",
    "]\n",
    "\n",
    "ROWS, COLS = len(grid), len(grid[0])\n",
    "start = (0, 0)  \n",
    "goal = (6, 4)   "
   ]
  },
  {
   "cell_type": "code",
   "execution_count": 12,
   "id": "64100e28",
   "metadata": {},
   "outputs": [],
   "source": [
    "def neighbors(node):\n",
    "    x, y = node\n",
    "    for dx, dy in [(-1, 0), (1, 0), (0, -1), (0, 1)]:\n",
    "        nx, ny = x + dx, y + dy\n",
    "        if 0 <= nx < ROWS and 0 <= ny < COLS:\n",
    "            if TERRAINS[grid[nx][ny]] is not None:\n",
    "                yield (nx, ny)"
   ]
  },
  {
   "cell_type": "code",
   "execution_count": 13,
   "id": "3c879c4c",
   "metadata": {},
   "outputs": [],
   "source": [
    "import heapq\n",
    "\n",
    "\n",
    "def a_star(start, goal):\n",
    "    global t\n",
    "    open_heap = []\n",
    "    heapq.heappush(open_heap, (0, start))\n",
    "    came_from = {}\n",
    "    g_score = {start: 0}\n",
    "    opened_order, closed_order = [], []\n",
    "\n",
    "    while open_heap:\n",
    "        current_f, current = heapq.heappop(open_heap)\n",
    "        closed_order.append(current)\n",
    "        t += 1\n",
    "\n",
    "        if current == goal:\n",
    "            break\n",
    "\n",
    "        for n in neighbors(current):\n",
    "            tentative_g = g_score[current] + TERRAINS[grid[n[0]][n[1]]]\n",
    "            if n not in g_score or tentative_g < g_score[n]:\n",
    "                came_from[n] = current\n",
    "                g_score[n] = tentative_g\n",
    "                f = tentative_g + heuristic(n, goal)\n",
    "                heapq.heappush(open_heap, (f, n))\n",
    "                if n not in opened_order:\n",
    "                    opened_order.append(n)\n",
    "\n",
    "    # Reconstruct path\n",
    "    path = []\n",
    "    node = goal\n",
    "    while node in came_from or node == start:\n",
    "        path.append(node)\n",
    "        if node == start:\n",
    "            break\n",
    "        node = came_from[node]\n",
    "    path.reverse()\n",
    "    return path, opened_order, closed_order"
   ]
  },
  {
   "cell_type": "code",
   "execution_count": 14,
   "id": "5fbf6399",
   "metadata": {},
   "outputs": [],
   "source": [
    "path, opened, closed = a_star(start, goal)"
   ]
  },
  {
   "cell_type": "code",
   "execution_count": 15,
   "id": "5c6a9c5b",
   "metadata": {},
   "outputs": [
    {
     "name": "stdout",
     "output_type": "stream",
     "text": [
      "\n",
      "Grid:\n",
      "S G G T G \n",
      "* M W M M \n",
      "* T M W G \n",
      "* G G M M \n",
      "* M M G W \n",
      "* * * * G \n",
      "G G M * G \n",
      "W G G W M \n",
      "\n",
      "Opened nodes (order added):\n",
      "[(1, 0), (0, 1), (1, 1), (0, 2), (2, 0), (1, 2), (0, 3), (1, 3), (0, 4), (1, 4), (2, 3), (3, 3), (2, 2), (2, 4), (3, 4), (3, 0), (2, 1), (3, 1), (4, 1), (3, 2), (4, 2), (5, 1), (4, 0), (6, 1), (5, 0), (5, 2), (6, 2), (5, 3), (7, 1), (6, 0), (4, 3), (7, 0), (6, 3), (5, 4), (7, 3), (6, 4)]\n",
      "\n",
      "Closed nodes (order processed):\n",
      "[(0, 0), (0, 1), (1, 0), (0, 2), (0, 3), (0, 4), (1, 3), (2, 3), (1, 4), (2, 4), (1, 2), (2, 0), (2, 1), (3, 1), (3, 2), (2, 2), (4, 1), (5, 1), (5, 2), (6, 1), (3, 3), (4, 2), (3, 0), (4, 0), (5, 0), (5, 1), (5, 2), (6, 0), (6, 1), (3, 3), (5, 3), (6, 3), (6, 4)]\n",
      "\n",
      "Final path from S to G:\n",
      "[(0, 0), (1, 0), (2, 0), (3, 0), (4, 0), (5, 0), (5, 1), (5, 2), (5, 3), (6, 3), (6, 4)]\n"
     ]
    }
   ],
   "source": [
    "print(\"\\nGrid:\")\n",
    "for r in range(ROWS):\n",
    "    row_repr = \"\"\n",
    "    for c in range(COLS):\n",
    "        symbol = grid[r][c]\n",
    "        if (r, c) == start:\n",
    "            symbol = \"S\"\n",
    "        elif (r, c) == goal:\n",
    "            symbol = \"G\"\n",
    "        elif (r, c) in path:\n",
    "            symbol = \"*\"\n",
    "        row_repr += symbol + \" \"\n",
    "    print(row_repr)\n",
    "\n",
    "print(\"\\nOpened nodes (order added):\")\n",
    "print(opened)\n",
    "\n",
    "print(\"\\nClosed nodes (order processed):\")\n",
    "print(closed)\n",
    "\n",
    "print(\"\\nFinal path from S to G:\")\n",
    "print(path)\n"
   ]
  },
  {
   "cell_type": "markdown",
   "id": "25be351c",
   "metadata": {},
   "source": [
    "# Second Grid"
   ]
  },
  {
   "cell_type": "code",
   "execution_count": 16,
   "id": "8ada0499",
   "metadata": {},
   "outputs": [],
   "source": [
    "grid = [\n",
    "    list(\"WGGTG\"),\n",
    "    list(\"GMWGG\"),\n",
    "    list(\"GTMWG\"),\n",
    "    list(\"GGGGW\"),\n",
    "    list(\"TMMGW\"),\n",
    "    list(\"GWGWG\"),\n",
    "    list(\"GGMTG\"),\n",
    "    list(\"WGGGG\"),\n",
    "]\n",
    "\n",
    "ROWS, COLS = len(grid), len(grid[0])\n",
    "start = (0, 0)  \n",
    "goal = (6, 4)   "
   ]
  },
  {
   "cell_type": "code",
   "execution_count": 17,
   "id": "b13f4b34",
   "metadata": {},
   "outputs": [],
   "source": [
    "path, opened, closed = a_star(start, goal)"
   ]
  },
  {
   "cell_type": "code",
   "execution_count": 18,
   "id": "21b73adb",
   "metadata": {},
   "outputs": [
    {
     "name": "stdout",
     "output_type": "stream",
     "text": [
      "\n",
      "Grid:\n",
      "S * * * G \n",
      "G M W * G \n",
      "G T M * G \n",
      "G G G * W \n",
      "T M M * W \n",
      "G W G * G \n",
      "G G M * G \n",
      "W G G G G \n",
      "\n",
      "Opened nodes (order added):\n",
      "[(1, 0), (0, 1), (1, 1), (0, 2), (2, 0), (1, 2), (0, 3), (1, 3), (0, 4), (1, 4), (2, 3), (3, 3), (2, 2), (2, 4), (3, 4), (4, 3), (3, 2), (4, 4), (5, 4), (5, 3), (4, 2), (6, 3), (5, 2), (7, 3), (6, 2), (6, 4)]\n",
      "\n",
      "Closed nodes (order processed):\n",
      "[(0, 0), (0, 1), (1, 0), (0, 2), (0, 3), (0, 4), (1, 3), (2, 3), (1, 4), (2, 4), (3, 3), (3, 4), (4, 4), (4, 3), (5, 3), (6, 3), (6, 4)]\n",
      "\n",
      "Final path from S to G:\n",
      "[(0, 0), (0, 1), (0, 2), (0, 3), (1, 3), (2, 3), (3, 3), (4, 3), (5, 3), (6, 3), (6, 4)]\n"
     ]
    }
   ],
   "source": [
    "print(\"\\nGrid:\")\n",
    "for r in range(ROWS):\n",
    "    row_repr = \"\"\n",
    "    for c in range(COLS):\n",
    "        symbol = grid[r][c]\n",
    "        if (r, c) == start:\n",
    "            symbol = \"S\"\n",
    "        elif (r, c) == goal:\n",
    "            symbol = \"G\"\n",
    "        elif (r, c) in path:\n",
    "            symbol = \"*\"\n",
    "        row_repr += symbol + \" \"\n",
    "    print(row_repr)\n",
    "\n",
    "print(\"\\nOpened nodes (order added):\")\n",
    "print(opened)\n",
    "\n",
    "print(\"\\nClosed nodes (order processed):\")\n",
    "print(closed)\n",
    "\n",
    "print(\"\\nFinal path from S to G:\")\n",
    "print(path)"
   ]
  }
 ],
 "metadata": {
  "kernelspec": {
   "display_name": ".venv",
   "language": "python",
   "name": "python3"
  },
  "language_info": {
   "codemirror_mode": {
    "name": "ipython",
    "version": 3
   },
   "file_extension": ".py",
   "mimetype": "text/x-python",
   "name": "python",
   "nbconvert_exporter": "python",
   "pygments_lexer": "ipython3",
   "version": "3.12.1"
  }
 },
 "nbformat": 4,
 "nbformat_minor": 5
}
